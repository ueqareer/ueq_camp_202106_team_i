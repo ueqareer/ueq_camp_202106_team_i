{
 "cells": [
  {
   "cell_type": "code",
   "execution_count": 128,
   "metadata": {},
   "outputs": [
    {
     "name": "stderr",
     "output_type": "stream",
     "text": [
      "/Users/naoki_ito/.pyenv/versions/anaconda3-2020.11/lib/python3.8/site-packages/numpy/core/_asarray.py:83: VisibleDeprecationWarning: Creating an ndarray from ragged nested sequences (which is a list-or-tuple of lists-or-tuples-or ndarrays with different lengths or shapes) is deprecated. If you meant to do this, you must specify 'dtype=object' when creating the ndarray\n",
      "  return array(a, dtype, copy=False, order=order)\n"
     ]
    }
   ],
   "source": [
    "#参考: https://qiita.com/toshiyuki_tsutsui/items/19590b464f15f845efcd\n",
    "\n",
    "import numpy as np\n",
    "import pandas as pd\n",
    "import pickle\n",
    "from gensim.models import word2vec\n",
    "import MeCab\n",
    "\n",
    "tagger = MeCab.Tagger('-Owakati -d /usr/local/lib/mecab/dic/mecab-ipadic-neologd')#タグはMeCab.Tagger（neologd辞書）を使用\n",
    "\n",
    "tagger.parse('')\n",
    "def tokenize_ja(text, lower):\n",
    "    node = tagger.parseToNode(str(text))\n",
    "    while node:\n",
    "        if lower and node.feature.split(',')[0] in [\"名詞\",\"形容詞\"]:#分かち書きで取得する品詞を指定\n",
    "            yield node.surface.lower()\n",
    "        node = node.next\n",
    "def tokenize(content, token_min_len, token_max_len, lower):\n",
    "    return [\n",
    "        str(token) for token in tokenize_ja(content, lower)\n",
    "        if token_min_len <= len(token) <= token_max_len and not token.startswith('_')\n",
    "    ]\n",
    "\n",
    "\n",
    "\n",
    "#学習データの読み込み\n",
    "\n",
    "df = pd.read_csv('./csv/tokyo_ramen_top20_100.csv')\n",
    "df_ramen = df.groupby(['store_name','score','review_cnt'])['review'].apply(list).apply(' '.join).reset_index().sort_values('score', ascending=False)\n",
    "\n",
    "#コーパス作成\n",
    "wakati_ramen_text = []\n",
    "for i in df_ramen['review']:\n",
    "    txt = tokenize(i, 2, 10000, True)\n",
    "    wakati_ramen_text.append(txt)\n",
    "\n",
    "np.savetxt(\"./work/ramen_corpus.txt\", wakati_ramen_text,fmt='%s', delimiter=',')\n",
    "# np.savetxt(\"./work/ramen_corpus.txt\", wakati_ramen_text, fmt = '%s', delimiter = ',')\n",
    "\n",
    "# モデル作成\n",
    "\n",
    "word2vec_ramen_model = word2vec.Word2Vec(wakati_ramen_text,sg=1,vector_size=100,window=20,min_count=5,epochs=5,workers=3)\n",
    "# word2vec_ramen_model = word2vec.Word2Vec(wakati_ramen_text, sg = 1, vector_size = 100, window = 5, min_count = 5, epochs = 100, workers = 3)\n",
    "\n",
    "#sg（0: CBOW, 1: skip-gram）,size（ベクトルの次元数）,window（学習に使う前後の単語数）,min_count（n回未満登場する単語を破棄）,iter（トレーニング反復回数）\n",
    "# size->vector_size，iter->epochsに変更\n",
    "\n",
    "# モデルのセーブ\n",
    "word2vec_ramen_model.save(\"./model/word2vec_ramen_model.model\")"
   ]
  },
  {
   "cell_type": "code",
   "execution_count": 129,
   "metadata": {},
   "outputs": [
    {
     "data": {
      "text/plain": [
       "[('まわり', 0.9089914560317993),\n",
       " ('よ～', 0.8961716294288635),\n",
       " ('躊躇', 0.887725830078125),\n",
       " ('みな', 0.8863531351089478),\n",
       " ('い方', 0.8816729784011841),\n",
       " ('おら', 0.8811513185501099),\n",
       " ('小さく', 0.8807997703552246),\n",
       " ('正しい', 0.8794723749160767),\n",
       " ('おまけ', 0.8732083439826965),\n",
       " ('神保町', 0.8723004460334778)]"
      ]
     },
     "execution_count": 129,
     "metadata": {},
     "output_type": "execute_result"
    }
   ],
   "source": [
    "from gensim.models import word2vec\n",
    "\n",
    "word2vec_ramen_model = word2vec.Word2Vec.load(\"./model/word2vec_ramen_model.model\")\n",
    "\n",
    "#self.wv.most_similarを使う\n",
    "\n",
    "#word2vec_ramen_model.wv.most_similar('とみ田') \n",
    "\n",
    "\n",
    "word2vec_ramen_model.wv.most_similar(positive=[\"かわいい\"])"
   ]
  },
  {
   "cell_type": "markdown",
   "metadata": {},
   "source": []
  },
  {
   "cell_type": "raw",
   "metadata": {},
   "source": []
  }
 ],
 "metadata": {
  "kernelspec": {
   "display_name": "Python 3",
   "language": "python",
   "name": "python3"
  },
  "language_info": {
   "codemirror_mode": {
    "name": "ipython",
    "version": 3
   },
   "file_extension": ".py",
   "mimetype": "text/x-python",
   "name": "python",
   "nbconvert_exporter": "python",
   "pygments_lexer": "ipython3",
   "version": "3.8.5"
  }
 },
 "nbformat": 4,
 "nbformat_minor": 4
}
